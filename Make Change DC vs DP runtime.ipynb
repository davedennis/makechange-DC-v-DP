{
 "cells": [
  {
   "cell_type": "code",
   "execution_count": 8,
   "metadata": {},
   "outputs": [
    {
     "name": "stdout",
     "output_type": "stream",
     "text": [
      "2.58 ms ± 0 ns per loop (mean ± std. dev. of 1 run, 1 loop each)\n",
      "8.18 ms ± 0 ns per loop (mean ± std. dev. of 1 run, 1 loop each)\n",
      "7.62 ms ± 0 ns per loop (mean ± std. dev. of 1 run, 1 loop each)\n",
      "16.7 ms ± 0 ns per loop (mean ± std. dev. of 1 run, 1 loop each)\n",
      "11.5 ms ± 0 ns per loop (mean ± std. dev. of 1 run, 1 loop each)\n"
     ]
    }
   ],
   "source": [
    "def mkChangeDP(n):\n",
    "\n",
    "   dptable = [[0 for x in range(len(coins))] for x in range(n + 1)]\n",
    "\n",
    "   for i in range(len(coins)):\n",
    "      dptable[0][i] = 1\n",
    "\n",
    "   for i in range(1, n + 1):\n",
    "      for j in range(len(coins)):\n",
    "\n",
    "         x = dptable[i - coins[j]][j] if i - coins[j] >= 0 else 0\n",
    "\n",
    "         y = dptable[i][j - 1] if j >= 1 else 0\n",
    "\n",
    "         dptable[i][j] = x + y\n",
    "\n",
    "   return dptable[n][len(coins) - 1]\n",
    "\n",
    "coins = [1, 5, 10 , 25]\n",
    "n = 1000\n",
    "n2 = 2000\n",
    "n3 = 3000\n",
    "n4 = 4000\n",
    "n5 = 5000\n",
    "\n",
    "%timeit -n 1 -r 1 mkChangeDP(n)\n",
    "%timeit -n 1 -r 1 mkChangeDP(n2)\n",
    "%timeit -n 1 -r 1 mkChangeDP(n3)\n",
    "%timeit -n 1 -r 1 mkChangeDP(n4)\n",
    "%timeit -n 1 -r 1 mkChangeDP(n5)"
   ]
  },
  {
   "cell_type": "code",
   "execution_count": null,
   "metadata": {},
   "outputs": [],
   "source": [
    "def mkChangeDC(n, c):\n",
    "   memoized = {}\n",
    "   temp = coins.copy()\n",
    "   temp.sort()\n",
    "   temp.reverse()\n",
    "\n",
    "   def cp(i, n):\n",
    "        \n",
    "      if (i, n) in memoized:\n",
    "         return memoized[(i, n)]\n",
    "      if i >= len(temp):\n",
    "         return 0\n",
    "      max_coin = temp[i]\n",
    "      if n == 0:\n",
    "         return 1\n",
    "      if n < 0:\n",
    "         return 0\n",
    "      if i == len(temp) - 1:\n",
    "         if n % max_coin == 0:\n",
    "            return 1\n",
    "         else:\n",
    "            return 0\n",
    "      else:\n",
    "         val = cp(i + 1, n) + cp(i, n - max_coin)\n",
    "         memoized[(i, n)] = val\n",
    "         return val\n",
    "\n",
    "   retval = cp(0, n)\n",
    "   return retval\n",
    "\n",
    "coins = [1, 5, 10 , 25]\n",
    "c = len(coins) - 1\n",
    "n = 1000\n",
    "n2 = 2000\n",
    "n3 = 3000\n",
    "n4 = 4000\n",
    "n5 = 5000\n",
    "\n",
    "%timeit -n 1 -r 1 mkChangeDC(n, c)\n",
    "%timeit -n 1 -r 1 mkChangeDC(n2, c)\n",
    "%timeit -n 1 -r 1 mkChangeDC(n3, c)\n",
    "%timeit -n 1 -r 1 mkChangeDC(n4, c)\n",
    "%timeit -n 1 -r 1 mkChangeDC(n5, c)"
   ]
  }
 ],
 "metadata": {
  "kernelspec": {
   "display_name": "Python 3",
   "language": "python",
   "name": "python3"
  },
  "language_info": {
   "codemirror_mode": {
    "name": "ipython",
    "version": 3
   },
   "file_extension": ".py",
   "mimetype": "text/x-python",
   "name": "python",
   "nbconvert_exporter": "python",
   "pygments_lexer": "ipython3",
   "version": "3.6.4"
  }
 },
 "nbformat": 4,
 "nbformat_minor": 2
}
